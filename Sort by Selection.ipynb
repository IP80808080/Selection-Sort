{
 "cells": [
  {
   "cell_type": "code",
   "execution_count": 10,
   "id": "0098c266",
   "metadata": {},
   "outputs": [
    {
     "name": "stdout",
     "output_type": "stream",
     "text": [
      "Enter the range of list:5\n",
      "Enter the Element: 24\n",
      "Enter the Element: 5\n",
      "Enter the Element: 2\n",
      "Enter the Element: 6\n",
      "Enter the Element: 8\n",
      "Old Sort ['24', '5', '2', '6', '8']\n",
      "['2', '24', '5', '6', '8']\n"
     ]
    }
   ],
   "source": [
    "\n",
    "l = [4,5,7,2,6]\n",
    "for i in range(len(l)):\n",
    "    minu = i\n",
    "    for j in range(i+1, len(l)):\n",
    "        if l[j] < l[minu]:\n",
    "            minu = j\n",
    "    l[i], l[minu] = l[minu], l[i]\n",
    "print(l)"
   ]
  },
  {
   "cell_type": "code",
   "execution_count": null,
   "id": "b204eec9",
   "metadata": {},
   "outputs": [],
   "source": []
  },
  {
   "cell_type": "code",
   "execution_count": null,
   "id": "29408192",
   "metadata": {},
   "outputs": [],
   "source": []
  }
 ],
 "metadata": {
  "kernelspec": {
   "display_name": "Python 3 (ipykernel)",
   "language": "python",
   "name": "python3"
  },
  "language_info": {
   "codemirror_mode": {
    "name": "ipython",
    "version": 3
   },
   "file_extension": ".py",
   "mimetype": "text/x-python",
   "name": "python",
   "nbconvert_exporter": "python",
   "pygments_lexer": "ipython3",
   "version": "3.9.13"
  }
 },
 "nbformat": 4,
 "nbformat_minor": 5
}
